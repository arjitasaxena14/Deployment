{
 "cells": [
  {
   "cell_type": "code",
   "execution_count": 1,
   "id": "8c001068",
   "metadata": {},
   "outputs": [],
   "source": [
    "import os\n",
    "import pandas as pd \n",
    "import numpy as np \n",
    "import flask\n",
    "import pickle\n",
    "from flask import Flask, render_template, request"
   ]
  },
  {
   "cell_type": "code",
   "execution_count": 56,
   "id": "55a1c1d7",
   "metadata": {},
   "outputs": [],
   "source": [
    "# creating flask instance\n",
    "app3=Flask(__name__)"
   ]
  },
  {
   "cell_type": "code",
   "execution_count": 57,
   "id": "446c0814",
   "metadata": {},
   "outputs": [],
   "source": [
    "@app3.route('/')\n",
    "def index3():\n",
    "    return flask.render_template('index.html')"
   ]
  },
  {
   "cell_type": "code",
   "execution_count": 58,
   "id": "082a86de",
   "metadata": {},
   "outputs": [],
   "source": [
    "def ValuePredictor(to_predict_list):\n",
    "    to_predict = np.array(to_predict_list).reshape(1,4)\n",
    "    loaded_model = pickle.load(open('iris_file.pkl','rb'))\n",
    "    result = loaded_model.predict(to_predict)\n",
    "    return result[0]"
   ]
  },
  {
   "cell_type": "code",
   "execution_count": 59,
   "id": "7938ed31",
   "metadata": {},
   "outputs": [],
   "source": [
    "@app3.route('/predict',methods = ['POST'])\n",
    "def result():\n",
    "    if request.method == 'POST':\n",
    "        to_predict_list = request.form.to_dict()\n",
    "        to_predict_list=list(to_predict_list.values())\n",
    "        to_predict_list = list(map(float, to_predict_list))\n",
    "        result = ValuePredictor(to_predict_list)\n",
    "        prediction = result #str(result)\n",
    "    return render_template('predict.html',prediction=prediction) "
   ]
  },
  {
   "cell_type": "code",
   "execution_count": 60,
   "id": "b486c33f",
   "metadata": {},
   "outputs": [
    {
     "name": "stdout",
     "output_type": "stream",
     "text": [
      " * Serving Flask app \"__main__\" (lazy loading)\n",
      " * Environment: production\n",
      "\u001b[31m   WARNING: This is a development server. Do not use it in a production deployment.\u001b[0m\n",
      "\u001b[2m   Use a production WSGI server instead.\u001b[0m\n",
      " * Debug mode: on\n"
     ]
    },
    {
     "name": "stderr",
     "output_type": "stream",
     "text": [
      " * Running on http://127.0.0.1:5000/ (Press CTRL+C to quit)\n",
      "127.0.0.1 - - [16/Apr/2022 12:10:50] \"GET / HTTP/1.1\" 200 -\n",
      "127.0.0.1 - - [16/Apr/2022 12:11:07] \"POST /predict HTTP/1.1\" 200 -\n",
      "127.0.0.1 - - [16/Apr/2022 12:11:07] \"GET /static/Irissetosa.jpg HTTP/1.1\" 200 -\n",
      "127.0.0.1 - - [16/Apr/2022 12:11:16] \"GET / HTTP/1.1\" 200 -\n"
     ]
    }
   ],
   "source": [
    "# to let interpreter know we want to run this instance\n",
    "if __name__==\"__main__\":\n",
    "    app3.run(debug=True, use_reloader=False)"
   ]
  },
  {
   "cell_type": "code",
   "execution_count": null,
   "id": "32e74782",
   "metadata": {},
   "outputs": [],
   "source": []
  }
 ],
 "metadata": {
  "kernelspec": {
   "display_name": "Python 3 (ipykernel)",
   "language": "python",
   "name": "python3"
  },
  "language_info": {
   "codemirror_mode": {
    "name": "ipython",
    "version": 3
   },
   "file_extension": ".py",
   "mimetype": "text/x-python",
   "name": "python",
   "nbconvert_exporter": "python",
   "pygments_lexer": "ipython3",
   "version": "3.9.7"
  }
 },
 "nbformat": 4,
 "nbformat_minor": 5
}
